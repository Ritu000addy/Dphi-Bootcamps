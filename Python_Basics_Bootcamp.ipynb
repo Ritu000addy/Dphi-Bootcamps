{
 "cells": [
  {
   "cell_type": "code",
   "execution_count": 28,
   "metadata": {},
   "outputs": [],
   "source": [
    "import numpy as np\n",
    "import pandas as pd\n",
    "import matplotlib.pyplot as plt\n",
    "%matplotlib inline\n",
    "\n",
    "import warnings\n",
    "warnings.filterwarnings(\"ignore\")"
   ]
  },
  {
   "cell_type": "markdown",
   "metadata": {},
   "source": [
    "Task 1"
   ]
  },
  {
   "cell_type": "code",
   "execution_count": 29,
   "metadata": {},
   "outputs": [
    {
     "data": {
      "text/plain": [
       "('python', 'python', 'python', 'python', 'python')"
      ]
     },
     "execution_count": 29,
     "metadata": {},
     "output_type": "execute_result"
    }
   ],
   "source": [
    "T = (\"python\", \"python\", \"python\", \"python\", \"python\")\n",
    "T"
   ]
  },
  {
   "cell_type": "markdown",
   "metadata": {},
   "source": [
    "Task 2\n",
    "\n",
    "Write code to print characters from a string that are present at an even index number. For example, if your input string is \"python\", the output characters will be (p,t,o)."
   ]
  },
  {
   "cell_type": "code",
   "execution_count": 42,
   "metadata": {},
   "outputs": [
    {
     "name": "stdout",
     "output_type": "stream",
     "text": [
      "['p', 'y', 't', 'h', 'o', 'n']\n",
      "['p', 'y', 't', 'h', 'o', 'n']\n",
      "['p', 'y', 't', 'h', 'o', 'n']\n",
      "['p', 'y', 't', 'h', 'o', 'n']\n",
      "['p', 'y', 't', 'h', 'o', 'n']\n"
     ]
    }
   ],
   "source": [
    "for i in T:\n",
    "    print(list(i))"
   ]
  },
  {
   "cell_type": "code",
   "execution_count": 58,
   "metadata": {},
   "outputs": [
    {
     "name": "stdout",
     "output_type": "stream",
     "text": [
      "p,t,o\n"
     ]
    }
   ],
   "source": [
    "string = \"\"\n",
    "for idx, letter in enumerate(list(i)):\n",
    "    if idx%2 ==0:\n",
    "        string += letter\n",
    "print(\",\".join(string))"
   ]
  },
  {
   "cell_type": "markdown",
   "metadata": {},
   "source": [
    "Task 3\n",
    "\n",
    "Write a function that calculates the average of the elements of the list: \n",
    "\n",
    "elements = [5, 7, 4, 9, 2]"
   ]
  },
  {
   "cell_type": "code",
   "execution_count": 61,
   "metadata": {},
   "outputs": [
    {
     "name": "stdout",
     "output_type": "stream",
     "text": [
      "5.4\n"
     ]
    }
   ],
   "source": [
    "elements = [5, 7, 4, 9, 2]\n",
    "\n",
    "print(np.average(elements))"
   ]
  },
  {
   "cell_type": "markdown",
   "metadata": {},
   "source": [
    "Task 4\n",
    "\n",
    "Write a code that takes a year as input and determines whether it is a leap year or not"
   ]
  },
  {
   "cell_type": "code",
   "execution_count": 73,
   "metadata": {},
   "outputs": [
    {
     "name": "stdout",
     "output_type": "stream",
     "text": [
      "A leap year\n"
     ]
    }
   ],
   "source": [
    "yr = int(input(\"Enter a year\"))\n",
    "if (yr%400 ==0) or (yr%4 == 0 and yr%100 != 0):\n",
    "    print(\"A leap year\")\n",
    "else:\n",
    "    print(\"Not a leap year\")"
   ]
  },
  {
   "cell_type": "markdown",
   "metadata": {},
   "source": [
    "Task 5\n",
    "\n",
    "Given a list of numbers (integers), find the sum of second maximum and second minimum in the following list.\n",
    "\n",
    "l = [21, 6, 12, 57, 35, 61]"
   ]
  },
  {
   "cell_type": "code",
   "execution_count": 79,
   "metadata": {},
   "outputs": [
    {
     "name": "stdout",
     "output_type": "stream",
     "text": [
      "69\n"
     ]
    }
   ],
   "source": [
    "l = [21, 6, 12, 57, 35, 61]\n",
    "def find_len(list1):\n",
    "    length = len(list1)\n",
    "    list1.sort()\n",
    "    a = list1[length-2]\n",
    "    b = list1[1]\n",
    "    print(a + b)\n",
    "\n",
    "find_len(l)"
   ]
  }
 ],
 "metadata": {
  "kernelspec": {
   "display_name": "Python 3.9.12 ('datascience')",
   "language": "python",
   "name": "python3"
  },
  "language_info": {
   "codemirror_mode": {
    "name": "ipython",
    "version": 3
   },
   "file_extension": ".py",
   "mimetype": "text/x-python",
   "name": "python",
   "nbconvert_exporter": "python",
   "pygments_lexer": "ipython3",
   "version": "3.9.12"
  },
  "orig_nbformat": 4,
  "vscode": {
   "interpreter": {
    "hash": "2b95d1d26a7c151409d3838b561334334add08b8c47c80f91b49b2addd682c6f"
   }
  }
 },
 "nbformat": 4,
 "nbformat_minor": 2
}
